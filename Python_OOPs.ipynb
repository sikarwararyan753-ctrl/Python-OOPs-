{
  "nbformat": 4,
  "nbformat_minor": 0,
  "metadata": {
    "colab": {
      "provenance": []
    },
    "kernelspec": {
      "name": "python3",
      "display_name": "Python 3"
    },
    "language_info": {
      "name": "python"
    }
  },
  "cells": [
    {
      "cell_type": "markdown",
      "source": [
        "# Python OOPs"
      ],
      "metadata": {
        "id": "iUGkvH-WpS8o"
      }
    },
    {
      "cell_type": "markdown",
      "source": [
        "1.  What is Object-Oriented Programming (OOP)?\n",
        "\n",
        "-  Object-oriented programming (OOP) is a programming paradigm that uses \"objects\" to design computer programs. These objects contain data (attributes) and methods (functions) that operate on that data, representing real-world entities. It's a way of structuring code to make it more modular, reusable, and easier to manage, especially for large and complex projects.\n",
        "\n",
        "\n",
        "2.  What is a class in OOP?\n",
        "\n",
        "-   n object-oriented programming (OOP), a class serves as a blueprint or template for creating objects. It defines the structure and behavior that objects of that class will possess.\n",
        "\n",
        "Here are the key characteristics of a class in OOP:\n",
        "\n",
        "\n",
        "Blueprint for Objects:\n",
        "A class acts as a design specification, outlining the common attributes (data) and methods (functions) that objects of that class will have.\n",
        "\n",
        "User-Defined Data Type:\n",
        "It is a user-defined data type that encapsulates data members (variables) and member functions (methods) into a single unit.\n",
        "\n",
        "Logical Structure:\n",
        "A class is a logical construct that exists in the program's definition but does not occupy memory until an object (an instance of the class) is created from it.\n",
        "\n",
        "Encapsulation:\n",
        "Classes promote encapsulation by bundling data and the methods that operate on that data together, hiding internal implementation details from external access.\n",
        "\n",
        "Foundation for Inheritance and Polymorphism:\n",
        "Classes are fundamental to OOP concepts like inheritance (allowing a class to inherit properties and behaviors from another class) and polymorphism (the ability of objects of different classes to respond to the same method call in different ways).\n",
        "\n",
        "\n",
        "3.  What is an object in OOP?\n",
        "\n",
        "-   In Object-Oriented Programming (OOP), an object is a fundamental building block that represents a real-world entity or a concept within a software system. It is an instance of a class, which acts as a blueprint or template defining the object's structure and behavior.\n",
        "\n",
        "Key characteristics of an object in OOP:\n",
        "\n",
        "State (Attributes/Properties):\n",
        "An object possesses data, represented by attributes or properties, that describe its current condition or characteristics. For example, a \"Car\" object might have attributes like \"color,\" \"make,\" and \"model.\"\n",
        "\n",
        "Behavior (Methods):\n",
        "An object can perform actions or operations, defined by methods, which describe what the object can do. Continuing the \"Car\" example, methods might include \"startEngine(),\" \"accelerate(),\" or \"brake().\"\n",
        "\n",
        "Identity:\n",
        "Each object has a unique identity, allowing it to be distinguished from other objects, even if they share the same state.\n",
        "\n",
        "Encapsulation:\n",
        "Objects encapsulate their data and the methods that operate on that data within a single unit, promoting data hiding and controlled access.\n",
        "\n",
        "Essentially, an object brings together related data and functionality, allowing for modular, reusable, and maintainable code. When a class is defined, it serves as a blueprint, but no memory is allocated until an object (an instance of that class) is created.\n",
        "\n",
        "\n",
        "4.  What is the difference between abstraction and encapsulation?\n",
        "\n",
        "-   Abstraction and encapsulation are fundamental concepts in object-oriented programming, often confused due to their related nature, but they serve distinct purposes.\n",
        "\n",
        "Abstraction focuses on what an object does, emphasizing essential features and hiding complex implementation details. It allows for the creation of simplified models of real-world entities or systems, exposing only the necessary functionalities to the user or other parts of the system. This is often achieved through abstract classes and interfaces, which define a contract for behavior without specifying the internal workings.\n",
        "\n",
        "Encapsulation, on the other hand, focuses on how an object manages its internal state and behavior. It involves bundling data and the methods that operate on that data into a single unit (a class) and restricting direct access to the internal data. This control is typically achieved through access modifiers (like private or protected) and by providing controlled access through public methods (getters and setters). Encapsulation ensures data integrity and prevents unauthorized or accidental modification of an object's internal state.\n",
        "\n",
        "In essence:\n",
        "\n",
        "Abstraction hides complexity: by showing only what is relevant.\n",
        "\n",
        "Encapsulation protects data: by controlling access to internal details.\n",
        "\n",
        "While abstraction defines the external view and behavior of an object, encapsulation provides the mechanism to achieve that abstraction by managing the internal implementation and ensuring data security.\n",
        "\n",
        "\n",
        "5.   What are dunder methods in Python?\n",
        "\n",
        "\n",
        "-    Dunder methods, also known as magic methods, are special methods in Python that have double underscores at both the beginning and end of their names, such as __init__ or __str__. They are not intended to be called directly by the programmer but are automatically invoked by Python in response to certain operations or built-in functions.\n",
        "\n",
        "These methods allow for customization of how objects of a class behave when interacting with standard Python operations, enabling features like:\n",
        "\n",
        "Operator Overloading:\n",
        "Defining how standard operators (like +, -, ==, []) behave when applied to instances of a custom class. For example, __add__ defines behavior for the + operator.\n",
        "\n",
        "Initialization and Deletion:\n",
        "__init__ is used for object initialization, and __del__ for object deletion.\n",
        "\n",
        "String Representation:\n",
        "__str__ and __repr__ define how an object is represented as a string, useful for printing and debugging.\n",
        "\n",
        "Context Management:\n",
        "__enter__ and __exit__ enable objects to be used with the with statement for resource management.\n",
        "\n",
        "Attribute Access:\n",
        "Methods like __getattr__, __setattr__, and __delattr__ control how attributes are accessed, assigned, and deleted.\n",
        "\n",
        "In essence, dunder methods form the backbone of Python's data model, allowing custom classes to seamlessly integrate with and extend the functionality of built-in types and operations\n",
        "\n",
        "\n",
        "6.   Explain the concept of inheritance in OOP?\n",
        "\n",
        "-    Inheritance in Object-Oriented Programming (OOP) is a fundamental concept that allows a class to acquire the properties and behaviors (attributes and methods) of another class. This mechanism establishes a hierarchical relationship between classes, often referred to as a \"parent-child\" or \"superclass-subclass\" relationship.\n",
        "\n",
        "Key aspects of inheritance:\n",
        "\n",
        "Code Reusability:\n",
        "Inheritance promotes code reusability by allowing subclasses to inherit and utilize the existing code from their superclasses, reducing redundancy and improving efficiency.\n",
        "\n",
        "\"Is-A\" Relationship:\n",
        "Inheritance represents an \"is-a\" relationship, meaning a subclass \"is a type of\" its superclass. For example, a \"Dog\" is a type of \"Animal.\"\n",
        "\n",
        "Extensibility:\n",
        "Subclasses can extend the functionality of their superclasses by adding new attributes and methods or by overriding existing ones to provide specialized implementations.\n",
        "\n",
        "Polymorphism Support:\n",
        "Inheritance is a prerequisite for polymorphism, which enables objects of different classes to be treated as objects of a common superclass, allowing for more flexible and generic code.\n",
        "\n",
        "\n",
        "\n",
        "7.   What is polymorphism in OOP?\n",
        "\n",
        "\n",
        "-    Polymorphism in OOP is the concept of \"many forms,\" allowing a single entity (like a variable, function, or object) to behave in different ways depending on its context or type. This provides flexibility and code reusability, enabling you to treat objects of different classes as if they were instances of a common superclass, calling the appropriate method for each object's specific type. Polymorphism is a key principle that makes code more adaptable, maintainable, and scalable by allowing diverse objects to respond to the same message with different implementations.\n",
        "\n",
        "\n",
        "8.  How is encapsulation achieved in Python?\n",
        "\n",
        "\n",
        "-  Encapsulation in Python, a core principle of Object-Oriented Programming (OOP), focuses on bundling data (attributes) and the methods that operate on that data within a single unit, typically a class. It also aims to restrict direct access to certain internal components, promoting data integrity and controlled interaction.\n",
        "\n",
        "Python achieves encapsulation primarily through:\n",
        "\n",
        "Conventions for Access Modifiers:\n",
        "\n",
        "Public Members: By default, all attributes and methods in a Python class are public. They can be accessed directly from outside the class using the dot operator.\n",
        "\n",
        "Protected Members (Convention): A single leading underscore (_) before an attribute or method name conventionally indicates that it is intended for internal use within the class or its subclasses. While not strictly enforced by the interpreter, it serves as a strong signal to developers to avoid direct external access.\n",
        "\n",
        "Private Members (Name Mangling): A double leading underscore (__) before an attribute or method name triggers name mangling by the Python interpreter. This means the name is transformed internally (e.g., __attribute becomes _ClassName__attribute), making it harder, though not impossible, to access directly from outside the class. This mechanism provides a stronger form of \"privacy\" compared to the single underscore convention.\n",
        "\n",
        "Getter and Setter Methods (Properties):\n",
        "\n",
        "To provide controlled access to internal data, especially for \"private\" or \"protected\" attributes, getter and setter methods are commonly used. Getters retrieve the value of an attribute, while setters allow modification of an attribute, often including validation logic to ensure data integrity.\n",
        "\n",
        "The @property decorator offers a more Pythonic way to implement getters and setters, allowing you to access methods as if they were attributes, providing a cleaner interface while still enforcing control over data access.\n",
        "\n",
        "\n",
        "\n",
        "9.  What is a constructor in Python?\n",
        "\n",
        "\n",
        "-   In Python, a constructor is a special method used to initialize the attributes of an object when a class is instantiated. It is automatically invoked whenever a new object of a class is created.\n",
        "\n",
        "The constructor in Python is defined using the __init__ method within a class. This method allows you to set up the initial state of the object by assigning values to its instance variables or performing other necessary setup operations.\n",
        "\n",
        "Here's a breakdown of its key aspects:\n",
        "\n",
        "Purpose:\n",
        "The primary purpose of the constructor (__init__) is to ensure that an object is properly initialized with its required attributes as soon as it's created. This prevents the need for manual initialization of each attribute after object creation.\n",
        "\n",
        "Automatic Invocation:\n",
        "Unlike regular methods that need to be explicitly called, the __init__ method is automatically called by Python when an object is created from a class.\n",
        "\n",
        "self Parameter:\n",
        "The first parameter of the __init__ method is always self, which refers to the instance of the class being created. This allows you to access and modify the object's attributes within the constructor.\n",
        "\n",
        "Parameters:\n",
        "The __init__ method can accept additional parameters beyond self to receive initial values for the object's attributes. These parameters are passed when you create an instance of the class.\n",
        "\n",
        "\n",
        "\n",
        "10.  What are class and static methods in Python?\n",
        "\n",
        "\n",
        "\n",
        "-   In Python, both class methods and static methods are defined within a class but differ in their access to class and instance data, and how they are called.\n",
        "\n",
        "Class Method:\n",
        "\n",
        "Definition:\n",
        "A class method is defined using the @classmethod decorator and takes the class itself as its first argument, conventionally named cls.\n",
        "\n",
        "Access:\n",
        "It can access and modify class-level attributes and call other class methods using the cls argument. It does not have access to instance-specific attributes directly.\n",
        "\n",
        "Use Cases:\n",
        "Class methods are commonly used for alternative constructors (methods that create instances of the class in different ways) or for operations that affect the entire class, such as modifying shared class data.\n",
        "\n",
        "Static Method:\n",
        "\n",
        "Definition:\n",
        "A static method is defined using the @staticmethod decorator and does not take self (instance) or cls (class) as its first argument. It behaves like a regular function but is logically grouped within the class.\n",
        "\n",
        "Access:\n",
        "It cannot access or modify instance-specific or class-level attributes directly. It operates independently of any specific instance or the class's state.\n",
        "\n",
        "Use Cases:\n",
        "Static methods are suitable for utility functions that are logically related to the class but do not require access to the class's or instance's state. For example, a validation function for input data related to the class.\n",
        "\n",
        "Key Differences Summarized:\n",
        "\n",
        "First Argument: Class methods take cls, static methods take no special first argument.\n",
        "\n",
        "Access to State: Class methods can access and modify class state, while static methods cannot access class or instance state directly.\n",
        "\n",
        "Purpose: Class methods are for class-level operations and alternative constructors; static methods are for utility functions logically grouped with the class.\n",
        "\n",
        "\n",
        "11.  What is method overloading in Python?\n",
        "\n",
        "\n",
        "-    Method overloading refers to the ability to define multiple methods within the same class that share the same name but differ in their parameter lists (e.g., number of arguments or types of arguments).\n",
        "\n",
        "Important Note: Python does not support method overloading in the traditional sense, unlike some other object-oriented languages like Java or C++. In those languages, you can define multiple methods with the same name as long as their signatures (parameter types and number) are distinct. Python's dynamic typing system and flexible argument handling make this approach unnecessary.\n",
        "\n",
        "\n",
        "12.    What is method overriding in OOP?\n",
        "\n",
        "\n",
        "-      Method overriding in OOP is when a subclass provides its own specific implementation of a method that already exists in its parent class, using the exact same method name, return type, and parameters. This process is key to achieving runtime polymorphism (dynamic method dispatch) because the specific method version that runs is determined at the moment the program is executed, based on the object's actual type.\n",
        "\n",
        "Key Aspects of Method Overriding\n",
        "\n",
        "Inheritance is Required:\n",
        "Method overriding can only occur between a parent (superclass) and a child (subclass) relationship where the child class inherits from the parent.\n",
        "\n",
        "Same Method Signature:\n",
        "For a method to be considered \"overridden,\" the method in the subclass must have the identical name, return type, and parameter list as the method in the superclass.\n",
        "\n",
        "Runtime Polymorphism:\n",
        "Overriding enables runtime polymorphism, also known as dynamic method dispatch or late binding. This means the system decides which method to execute based on the object's type at the time of execution, not during compilation.\n",
        "Customized Behavior:\n",
        "\n",
        "Developers use overriding to customize or extend the behavior inherited from the parent class without altering the parent class's original code.\n",
        "\n",
        "\n",
        "\n",
        "13.  What is a property decorator in Python?\n",
        "\n",
        "\n",
        "\n",
        "-    The @property decorator in Python is a built-in decorator that allows you to define methods within a class that can be accessed like attributes, rather than requiring explicit method calls. It provides a \"Pythonic\" way to implement getters, setters, and deleters for class attributes, enabling controlled access and encapsulation.\n",
        "\n",
        "\n",
        "14.  Why is polymorphism important in OOP?\n",
        "\n",
        "\n",
        "\n",
        "-    Polymorphism is important in OOP because it enables code reusability, flexibility, and scalability by allowing a single action or method to be performed in various ways by different objects. It promotes modular and organized code, making it easier to maintain, test, and extend by reducing redundancy and avoiding complex conditional statements. Polymorphism is a foundational concept that helps create true object-oriented systems by allowing diverse objects to share a common interface while retaining their unique implementations.\n",
        "\n",
        "\n",
        "Key Benefits of Polymorphism\n",
        "\n",
        "Code Reusability:\n",
        "You can write a single method name or interface and have it used across many different classes, each providing its own specific implementation.\n",
        "\n",
        "Flexibility and Extensibility:\n",
        "New classes and behaviors can be added to a system without modifying existing code, making the program adaptable to new requirements and easy to scale.\n",
        "\n",
        "Improved Readability and Maintainability:\n",
        "Polymorphism simplifies code by reducing the need for duplicate code and complex conditional logic, leading to more understandable and maintainable programs.\n",
        "\n",
        "Loose Coupling:\n",
        "It promotes loose coupling between objects, as code can operate on a common interface rather than on specific object types, leading to more robust and modular designs.\n",
        "\n",
        "Supports Real-World Modeling:\n",
        "It allows for the creation of more realistic and efficient software by modeling different entities with their own distinct behaviors but sharing a common way of performing a task.\n",
        "\n",
        "\n",
        "\n",
        "15.    What is an abstract class in Python?\n",
        "\n",
        "\n",
        "-     An abstract class in Python is a class that cannot be instantiated directly and serves as a blueprint or template for other classes. It is designed to be subclassed, and its primary purpose is to define a common interface that all its concrete subclasses must implement.\n",
        "\n",
        "Here's a breakdown of key characteristics and how they are implemented:\n",
        "\n",
        "Cannot be Instantiated:\n",
        "You cannot create an object directly from an abstract class. Attempting to do so will result in a TypeError.\n",
        "\n",
        "Abstract Methods:\n",
        "Abstract classes typically contain one or more abstract methods. These are methods declared within the abstract class but without a concrete implementation (they usually have pass as their body).\n",
        "\n",
        "Enforcing Implementation:\n",
        "Any concrete class that inherits from an abstract class must provide an implementation for all the abstract methods defined in the parent abstract class. If a subclass fails to implement an abstract method, Python will raise a TypeError when you try to instantiate that subclass.\n",
        "\n",
        "abc Module:\n",
        "Python provides the abc (Abstract Base Classes) module to facilitate the creation of abstract classes. You define an abstract class by inheriting from ABC (from abc) and decorating abstract methods with @abstractmethod\n",
        "\n",
        "\n",
        "\n",
        "\n",
        "16.    What are the advantages of OOP?\n",
        "\n",
        "\n",
        "\n",
        "-      The main advantages of Object-Oriented Programming (OOP) are modularity, code reusability through inheritance, flexibility and extensibility via polymorphism, enhanced security and data integrity from encapsulation and abstraction, improved scalability for complex systems, easier maintenance, and better collaboration among developers. These features help in creating software that is more organized, adaptable, and cost-effective to develop and manage.\n",
        "\n",
        "Key Advantages\n",
        "\n",
        "Modularity:\n",
        "OOP breaks down large, complex software into smaller, self-contained objects, which makes the code easier to understand, troubleshoot, and manage.\n",
        "\n",
        "Code Reusability:\n",
        "Through inheritance, objects can inherit properties and methods from parent classes, reducing the need to write repetitive code and saving time and effort.\n",
        "\n",
        "Flexibility and Extensibility:\n",
        "Polymorphism allows objects to be treated as instances of a common superclass, providing flexibility and making it easier to add new features without significantly altering existing code.\n",
        "\n",
        "Encapsulation:\n",
        "This principle bundles data and the methods that operate on that data into a single unit (an object) and hides internal complexities from the outside. This protects data from unauthorized access and allows for changes in implementation without affecting other parts of the system.\n",
        "\n",
        "Abstraction:\n",
        "OOP focuses on essential features and hides unnecessary implementation details, providing a simpler view of objects and making complex systems easier to handle.\n",
        "\n",
        "Scalability:\n",
        "The modular nature of OOP makes it easier to scale applications to handle larger datasets and increased functionality without major disruptions.\n",
        "\n",
        "Improved Maintainability:\n",
        "Modular and well-organized code is easier to update, debug, and maintain over its lifecycle, leading to more robust software.\n",
        "\n",
        "Enhanced Productivity:\n",
        "Reusable code components and a clear structure lead to faster development cycles and higher programmer productivity.\n",
        "\n",
        "Real-World Modeling:\n",
        "OOP allows programmers to model real-world entities and their interactions, which helps in designing effective and intuitive software solutions.\n",
        "\n",
        "\n",
        "\n",
        "17.   What is the difference between a class variable and an instance variable?\n",
        "\n",
        "\n",
        "\n",
        "-     The primary distinction between a class variable and an instance variable lies in their scope, storage, and how they relate to the class and its instances.\n",
        "\n",
        "Class Variables:\n",
        "\n",
        "Scope and Ownership:\n",
        "Class variables are owned by the class itself, not by any specific instance. They are defined within the class but outside of any methods.\n",
        "\n",
        "Sharing:\n",
        "All instances of a class share the same single copy of a class variable. If one instance modifies a class variable, that change is reflected for all other instances.\n",
        "\n",
        "Access:\n",
        "Class variables can be accessed using either the class name (e.g., ClassName.variable_name) or an instance of the class (e.g., instance_name.variable_name).\n",
        "\n",
        "Use Cases:\n",
        "Often used for data that is common to all instances, such as constants, shared counters, or configurations that apply globally to the class.\n",
        "\n",
        "Instance Variables:\n",
        "\n",
        "Scope and Ownership:\n",
        "Instance variables are owned by individual instances of the class. They are typically defined and initialized within the constructor (__init__ in Python) or other instance methods.\n",
        "\n",
        "Uniqueness:\n",
        "Each instance of a class has its own independent copy of instance variables. Changes to an instance variable in one object do not affect the same variable in another object.\n",
        "\n",
        "Access:\n",
        "Instance variables are accessed through an instance of the class (e.g., instance_name.variable_name).\n",
        "\n",
        "Use Cases:\n",
        "Used for data that is unique to each specific object, such as an object's name, age, or specific attributes that differentiate one instance from another.\n",
        "\n",
        "\n",
        "18.   What is multiple inheritance in Python?\n",
        "\n",
        "\n",
        "-     Multiple inheritance in Python is a feature that allows a class to inherit attributes and methods from more than one parent class. This means a single child class can combine functionalities and characteristics from multiple base classes\n",
        "\n",
        "\n",
        "19.   Explain the purpose of ‘’__str__’ and ‘__repr__’ ‘ methods in Python?\n",
        "\n",
        "\n",
        "-     In Python, __str__ and __repr__ are special methods (also known as \"dunder methods\" due to their double underscores) that define how an object is represented as a string. They serve different purposes and are intended for different audiences.\n",
        "\n",
        "__str__ (for \"string\"):\n",
        "\n",
        "This method is designed to provide a human-readable string representation of an object.\n",
        "\n",
        "It is called by the built-in str() function and implicitly when an object is printed using print().\n",
        "\n",
        "The output should be easily understandable and suitable for display to end-users or for logging.\n",
        "\n",
        "It can be a simplified representation and may not contain all the information necessary to recreate the object.\n",
        "\n",
        "__repr__ (for \"representation\"):\n",
        "\n",
        "This method is designed to provide an unambiguous string representation of an object, primarily for developers and debugging.\n",
        "\n",
        "It is called by the built-in repr() function and is the fallback when __str__ is not defined for a class. It is also used in interactive environments (like the Python REPL) when an object is evaluated without being explicitly printed.\n",
        "\n",
        "The output should ideally be a valid Python expression that, when evaluated, could recreate the object (if feasible).\n",
        "\n",
        "It prioritizes completeness and clarity for a programmer, even if it's less \"pretty\" than the __str__ output\n",
        "\n",
        "\n",
        "\n",
        "20.     What is the significance of the ‘super()’ function in Python?\n",
        "\n",
        "\n",
        "\n",
        "-        The super() function in Python holds significant importance in object-oriented programming, particularly when dealing with inheritance. Its primary purpose is to provide a way to access methods and properties of a parent or sibling class from within a child or subclass.\n",
        "\n",
        "Here's a breakdown of its significance:\n",
        "\n",
        "Enabling Method Overriding and Extension:\n",
        "super() allows a subclass to override a method inherited from its parent class while still being able to call the parent's version of that method. This enables extending the parent's functionality rather than completely replacing it. For example, a subclass's __init__ method can call super().__init__() to ensure the parent's initialization is performed before adding subclass-specific attributes.\n",
        "\n",
        "Facilitating Code Reusability:\n",
        "By allowing access to parent class methods, super() promotes code reusability. Instead of duplicating code from the parent in the child class, super() can be used to invoke the existing implementation, leading to more concise and maintainable code.\n",
        "\n",
        "Managing Complex Inheritance Hierarchies (especially Multiple Inheritance):\n",
        "In scenarios involving multiple inheritance, super() becomes crucial for correctly navigating the Method Resolution Order (MRO). It ensures that methods are called in the correct sequence as defined by the MRO, preventing issues and ensuring proper behavior when a method exists in multiple parent classes.\n",
        "\n",
        "Promoting Flexibility and Maintainability:\n",
        "super() makes code more flexible because it avoids explicitly naming the parent class. If the inheritance hierarchy changes, the super() calls remain valid, reducing the need for extensive code modifications. This contributes to easier maintenance and adaptability.\n",
        "\n",
        "In essence, super() is a cornerstone of effective object-oriented design in Python, enabling robust inheritance, promoting code organization, and simplifying the management of complex class relationships\n",
        "\n",
        "\n",
        "\n",
        "\n",
        "21.  What is the significance of the __del__ method in Python?\n",
        "\n",
        "\n",
        "-    The __del__ method in Python, often referred to as a destructor, holds significance primarily for resource cleanup when an object is about to be destroyed.\n",
        "\n",
        "Key aspects of its significance:\n",
        "\n",
        "Resource Management:\n",
        "Its main purpose is to release external resources held by an object, such as closing file handles, network connections, or database connections, that would not be automatically managed by Python's garbage collector.\n",
        "\n",
        "Automatic Invocation:\n",
        "Unlike regular methods, __del__ is not called explicitly by the programmer. Instead, Python's garbage collector automatically invokes it when an object's reference count drops to zero, indicating that the object is no longer referenced and its memory can be reclaimed.\n",
        "\n",
        "Cleanup Operations:\n",
        "It provides an opportunity to perform specific cleanup actions before an object's memory is deallocated, ensuring that resources are properly released and preventing potential resource leaks.\n",
        "\n",
        "Important considerations:\n",
        "\n",
        "Non-Guaranteed Execution:\n",
        "The timing of __del__ execution is not guaranteed and can be non-deterministic, especially in scenarios involving circular references or during program termination. This makes it unsuitable for critical cleanup tasks that absolutely must occur.\n",
        "\n",
        "Alternatives for Critical Cleanup:\n",
        "For critical resource management, Python's with statement and context managers (__enter__ and __exit__ methods) are generally preferred as they offer deterministic and reliable resource management.\n",
        "\n",
        "Debugging:\n",
        "While not its primary purpose, __del__ can be used in debugging to monitor object destruction and identify potential memory leaks by printing messages when objects are about to be deleted.\n",
        "\n",
        "\n",
        "22.   What is the difference between @staticmethod and @classmethod in Python?\n",
        "\n",
        "\n",
        "\n",
        "-     The primary difference between @staticmethod and @classmethod in Python lies in their access to the class and its instances.\n",
        "\n",
        "@classmethod:\n",
        "\n",
        "Takes cls as the first argument:\n",
        "A class method receives the class itself as its first parameter, conventionally named cls. This allows the method to access and modify class-level attributes and call other class methods.\n",
        "\n",
        "Can access and modify class state:\n",
        "Because it receives cls, a class method can interact with the class's attributes and potentially change the class's state, affecting all instances.\n",
        "\n",
        "Commonly used for factory methods:\n",
        "Class methods are frequently employed to create alternative constructors or factory methods that return instances of the class based on different input parameters or conditions.\n",
        "\n",
        "@staticmethod:\n",
        "\n",
        "Does not take self or cls as an argument:\n",
        "A static method does not receive any special first argument like self (for instance methods) or cls (for class methods).\n",
        "\n",
        "Cannot access or modify class or instance state:\n",
        "Due to the lack of self or cls, static methods cannot directly access or modify class-level attributes or instance-specific data.\n",
        "\n",
        "Used for utility functions:\n",
        "Static methods are typically used for utility functions that are logically related to the class but do not require any knowledge of the class's state or its instances. They behave like regular functions but are encapsulated within the class's namespace.\n",
        "\n",
        "In summary:\n",
        "\n",
        "Choose @classmethod when the method needs to interact with the class itself (e.g., access class attributes, create new instances of the class).\n",
        "\n",
        "Choose @staticmethod when the method is a standalone utility function that happens to be logically grouped with the class but does not require access to the class or instance state.\n",
        "\n",
        "\n",
        "\n",
        "23.    How does polymorphism work in Python with inheritance?\n",
        "\n",
        "\n",
        "\n",
        "-      Polymorphism in Python, when combined with inheritance, primarily manifests through method overriding. This allows child classes to provide a specific implementation for a method that is already defined in their parent class.\n",
        "\n",
        "Here's how it works:\n",
        "\n",
        "Inheritance:\n",
        "A child class (subclass) inherits methods and attributes from its parent class (superclass). This means the child class automatically has access to the parent's methods.\n",
        "\n",
        "Method Overriding:\n",
        "If a child class needs to perform a method differently than its parent, it can redefine that method with the same name. This redefinition in the child class is called method overriding. When an instance of the child class calls that method, its own overridden version will be executed instead of the parent's.\n",
        "\n",
        "Polymorphic Behavior:\n",
        "Because of method overriding, objects of different classes (a parent class and its child classes) can respond to the same method call in different ways, depending on their specific implementation. This allows for a single interface (the method name) to be used with multiple types, leading to more flexible and extensible code.\n",
        "\n",
        "\n",
        "\n",
        "24.     What is method chaining in Python OOP?\n",
        "\n",
        "\n",
        "\n",
        "-       Method chaining in Python Object-Oriented Programming (OOP) is a technique that allows multiple methods to be called sequentially on the same object in a single line of code. This is achieved by having each method in the chain return the object itself (typically self).\n",
        "\n",
        "Key principles of method chaining:\n",
        "\n",
        "Returning self:\n",
        "For a method to be part of a chain, it must return the instance of the object (self) after performing its operation. This allows the next method in the chain to be called on the same object.\n",
        "\n",
        "Conciseness and Readability:\n",
        "Method chaining can make code more compact and easier to read, especially when performing a series of related operations on an object. Instead of declaring intermediate variables for each step, the operations flow seamlessly.\n",
        "\n",
        "Fluent Interfaces:\n",
        "It's often used to create \"fluent interfaces\" where the code reads like a natural language sentence, describing a sequence of actions.\n",
        "\n",
        "\n",
        "\n",
        "25.   What is the purpose of the __call__ method in Python?\n",
        "\n",
        "\n",
        "\n",
        "-      The purpose of the __call__ method in Python is to make instances of a class callable, meaning they can be invoked like functions.\n",
        "\n",
        "When the __call__ method is defined within a class, and an instance of that class is subsequently called using parentheses (e.g., my_object()), the __call__ method of that instance is automatically executed. This allows objects to encapsulate both data and behavior in a way that makes them behave like functions, providing a more flexible and dynamic approach to object-oriented programming.\n",
        "\n",
        "This functionality is useful in scenarios where an object needs to represent an operation or a function-like entity, while also maintaining its state and attributes as an object."
      ],
      "metadata": {
        "id": "sHK-j69VpYPA"
      }
    },
    {
      "cell_type": "markdown",
      "source": [
        "#    Practical Questions"
      ],
      "metadata": {
        "id": "DW7oyyhBXUgF"
      }
    },
    {
      "cell_type": "markdown",
      "source": [
        "1.    1. Create a parent class Animal with a method speak() that prints a generic message. Create a child class Dog\n",
        "that overrides the speak() method to print \"Bark!\".\n",
        "\n",
        "-\n"
      ],
      "metadata": {
        "id": "Ai5Ck1GrXfhG"
      }
    },
    {
      "cell_type": "code",
      "execution_count": 1,
      "metadata": {
        "id": "0MjnEEjYpRqN",
        "colab": {
          "base_uri": "https://localhost:8080/"
        },
        "outputId": "cb3c5344-ace9-4168-ee74-a1409f0ffc47"
      },
      "outputs": [
        {
          "output_type": "stream",
          "name": "stdout",
          "text": [
            "The animal makes a sound.\n",
            "Bark!\n"
          ]
        }
      ],
      "source": [
        "# Parent class\n",
        "class Animal:\n",
        "    def speak(self):\n",
        "        print(\"The animal makes a sound.\")\n",
        "\n",
        "# Child class\n",
        "class Dog(Animal):\n",
        "    def speak(self):\n",
        "        print(\"Bark!\")\n",
        "\n",
        "# Example usage\n",
        "generic_animal = Animal()\n",
        "generic_animal.speak()  # Output: The animal makes a sound.\n",
        "\n",
        "dog = Dog()\n",
        "dog.speak()             # Output: Bark!"
      ]
    },
    {
      "cell_type": "markdown",
      "source": [
        "2.   Write a program to create an abstract class Shape with a method area(). Derive classes Circle and Rectangle\n",
        "from it and implement the area() method in both.\n",
        "\n",
        "\n",
        "-"
      ],
      "metadata": {
        "id": "NyhXaPIOX3k4"
      }
    },
    {
      "cell_type": "code",
      "source": [
        "from abc import ABC, abstractmethod\n",
        "import math\n",
        "\n",
        "# Abstract base class\n",
        "class Shape(ABC):\n",
        "    @abstractmethod\n",
        "    def area(self):\n",
        "        pass\n",
        "\n",
        "# Circle class\n",
        "class Circle(Shape):\n",
        "    def __init__(self, radius):\n",
        "        self.radius = radius\n",
        "\n",
        "    def area(self):\n",
        "        return math.pi * self.radius ** 2\n",
        "\n",
        "# Rectangle class\n",
        "class Rectangle(Shape):\n",
        "    def __init__(self, width, height):\n",
        "        self.width = width\n",
        "        self.height = height\n",
        "\n",
        "    def area(self):\n",
        "        return self.width * self.height\n",
        "\n",
        "# Example usage\n",
        "shapes = [\n",
        "    Circle(5),\n",
        "    Rectangle(4, 6)\n",
        "]\n",
        "\n",
        "for shape in shapes:\n",
        "    print(f\"{type(shape).__name__} area: {shape.area():.2f}\")"
      ],
      "metadata": {
        "colab": {
          "base_uri": "https://localhost:8080/"
        },
        "id": "Dfp2oUvpXwuZ",
        "outputId": "9d48ed25-e626-44fb-dbd7-acb9c4e5186d"
      },
      "execution_count": 2,
      "outputs": [
        {
          "output_type": "stream",
          "name": "stdout",
          "text": [
            "Circle area: 78.54\n",
            "Rectangle area: 24.00\n"
          ]
        }
      ]
    },
    {
      "cell_type": "markdown",
      "source": [
        "3. Implement a multi-level inheritance scenario where a class Vehicle has an attribute type. Derive a class Car\n",
        "and further derive a class ElectricCar that adds a battery attribute.\n",
        "\n",
        "\n",
        "-"
      ],
      "metadata": {
        "id": "gWmFOjHyYMFb"
      }
    },
    {
      "cell_type": "code",
      "source": [
        "# Base class\n",
        "class Vehicle:\n",
        "    def __init__(self, vehicle_type):\n",
        "        self.type = vehicle_type\n",
        "\n",
        "    def display_type(self):\n",
        "        print(f\"Vehicle type: {self.type}\")\n",
        "\n",
        "# First-level derived class\n",
        "class Car(Vehicle):\n",
        "    def __init__(self, vehicle_type, brand):\n",
        "        super().__init__(vehicle_type)\n",
        "        self.brand = brand\n",
        "\n",
        "    def display_info(self):\n",
        "        print(f\"Car brand: {self.brand}\")\n",
        "        self.display_type()\n",
        "\n",
        "# Second-level derived class\n",
        "class ElectricCar(Car):\n",
        "    def __init__(self, vehicle_type, brand, battery_capacity):\n",
        "        super().__init__(vehicle_type, brand)\n",
        "        self.battery = battery_capacity\n",
        "\n",
        "    def display_details(self):\n",
        "        self.display_info()\n",
        "        print(f\"Battery capacity: {self.battery} kWh\")\n",
        "\n",
        "# Example usage\n",
        "tesla = ElectricCar(\"Four-wheeler\", \"Tesla\", 75)\n",
        "tesla.display_details()"
      ],
      "metadata": {
        "colab": {
          "base_uri": "https://localhost:8080/"
        },
        "id": "BOSYGREmYJ93",
        "outputId": "d0f4e010-ea16-42f4-c9fe-254c4a9ecf0f"
      },
      "execution_count": 3,
      "outputs": [
        {
          "output_type": "stream",
          "name": "stdout",
          "text": [
            "Car brand: Tesla\n",
            "Vehicle type: Four-wheeler\n",
            "Battery capacity: 75 kWh\n"
          ]
        }
      ]
    },
    {
      "cell_type": "markdown",
      "source": [
        "4. Demonstrate polymorphism by creating a base class Bird with a method fly(). Create two derived classes\n",
        "Sparrow and Penguin that override the fly() method.\n",
        "\n",
        "\n",
        "-"
      ],
      "metadata": {
        "id": "X-9_hvacYdrK"
      }
    },
    {
      "cell_type": "code",
      "source": [
        "# Base class\n",
        "class Bird:\n",
        "    def fly(self):\n",
        "        print(\"This bird can fly in its own way.\")\n",
        "\n",
        "# Derived class: Sparrow\n",
        "class Sparrow(Bird):\n",
        "    def fly(self):\n",
        "        print(\"Sparrow flies swiftly through the sky.\")\n",
        "\n",
        "# Derived class: Penguin\n",
        "class Penguin(Bird):\n",
        "    def fly(self):\n",
        "        print(\"Penguins can't fly, but they swim like torpedoes!\")\n",
        "\n",
        "# Example usage\n",
        "birds = [Sparrow(), Penguin()]\n",
        "\n",
        "for bird in birds:\n",
        "    bird.fly()"
      ],
      "metadata": {
        "colab": {
          "base_uri": "https://localhost:8080/"
        },
        "id": "QjInbe95Ycyv",
        "outputId": "abe99331-31b7-4479-f271-a74c5c20970a"
      },
      "execution_count": 4,
      "outputs": [
        {
          "output_type": "stream",
          "name": "stdout",
          "text": [
            "Sparrow flies swiftly through the sky.\n",
            "Penguins can't fly, but they swim like torpedoes!\n"
          ]
        }
      ]
    },
    {
      "cell_type": "markdown",
      "source": [
        "5. Write a program to demonstrate encapsulation by creating a class BankAccount with private attributes\n",
        "balance and methods to deposit, withdraw, and check balance.\n",
        "\n",
        "-"
      ],
      "metadata": {
        "id": "kUIOTjWhYm9g"
      }
    },
    {
      "cell_type": "code",
      "source": [
        "class BankAccount:\n",
        "    def __init__(self, initial_balance=0):\n",
        "        self.__balance = initial_balance  # Private attribute\n",
        "\n",
        "    def deposit(self, amount):\n",
        "        if amount > 0:\n",
        "            self.__balance += amount\n",
        "            print(f\"Deposited ₹{amount}.\")\n",
        "        else:\n",
        "            print(\"Deposit amount must be positive.\")\n",
        "\n",
        "    def withdraw(self, amount):\n",
        "        if 0 < amount <= self.__balance:\n",
        "            self.__balance -= amount\n",
        "            print(f\"Withdrew ₹{amount}.\")\n",
        "        else:\n",
        "            print(\"Insufficient balance or invalid amount.\")\n",
        "\n",
        "    def check_balance(self):\n",
        "        print(f\"Current balance: ₹{self.__balance}\")\n",
        "\n",
        "# Example usage\n",
        "account = BankAccount(1000)\n",
        "account.check_balance()     # ₹1000\n",
        "account.deposit(500)        # ₹1500\n",
        "account.withdraw(2000)      # Insufficient balance\n",
        "account.withdraw(300)       # ₹1200\n",
        "account.check_balance()     # ₹1200"
      ],
      "metadata": {
        "colab": {
          "base_uri": "https://localhost:8080/"
        },
        "id": "HjEhtvAYYls6",
        "outputId": "69287668-0205-41f4-d35e-6268d1259b2f"
      },
      "execution_count": 5,
      "outputs": [
        {
          "output_type": "stream",
          "name": "stdout",
          "text": [
            "Current balance: ₹1000\n",
            "Deposited ₹500.\n",
            "Insufficient balance or invalid amount.\n",
            "Withdrew ₹300.\n",
            "Current balance: ₹1200\n"
          ]
        }
      ]
    },
    {
      "cell_type": "markdown",
      "source": [
        "6. Demonstrate runtime polymorphism using a method play() in a base class Instrument. Derive classes Guitar\n",
        "and Piano that implement their own version of play().\n",
        "\n",
        "-"
      ],
      "metadata": {
        "id": "CGdR9HF1YyGN"
      }
    },
    {
      "cell_type": "code",
      "source": [
        "# Base class\n",
        "class Instrument:\n",
        "    def play(self):\n",
        "        print(\"Playing an instrument...\")\n",
        "\n",
        "# Derived class: Guitar\n",
        "class Guitar(Instrument):\n",
        "    def play(self):\n",
        "        print(\"Strumming the guitar 🎸\")\n",
        "\n",
        "# Derived class: Piano\n",
        "class Piano(Instrument):\n",
        "    def play(self):\n",
        "        print(\"Playing the piano 🎹\")\n",
        "\n",
        "# Runtime polymorphism in action\n",
        "def perform(instrument: Instrument):\n",
        "    instrument.play()\n",
        "\n",
        "# Example usage\n",
        "instruments = [Guitar(), Piano()]\n",
        "\n",
        "for inst in instruments:\n",
        "    perform(inst)"
      ],
      "metadata": {
        "colab": {
          "base_uri": "https://localhost:8080/"
        },
        "id": "nBl49H_JYwG5",
        "outputId": "dcb2c6ab-f2ab-4f11-8b0b-72bb89afb084"
      },
      "execution_count": 6,
      "outputs": [
        {
          "output_type": "stream",
          "name": "stdout",
          "text": [
            "Strumming the guitar 🎸\n",
            "Playing the piano 🎹\n"
          ]
        }
      ]
    },
    {
      "cell_type": "markdown",
      "source": [
        " 7. Create a class MathOperations with a class method add_numbers() to add two numbers and a static\n",
        "method subtract_numbers() to subtract two numbers.\n",
        "\n",
        "-"
      ],
      "metadata": {
        "id": "xe7_dyNcZBfE"
      }
    },
    {
      "cell_type": "code",
      "source": [
        "class MathOperations:\n",
        "    @classmethod\n",
        "    def add_numbers(cls, a, b):\n",
        "        return a + b\n",
        "\n",
        "    @staticmethod\n",
        "    def subtract_numbers(a, b):\n",
        "        return a - b\n",
        "\n",
        "# Example usage\n",
        "print(\"Addition:\", MathOperations.add_numbers(10, 5))     # Output: 15\n",
        "print(\"Subtraction:\", MathOperations.subtract_numbers(10, 5))  # Output: 5"
      ],
      "metadata": {
        "colab": {
          "base_uri": "https://localhost:8080/"
        },
        "id": "Wo-hvLmkZANC",
        "outputId": "4dc3491f-945a-4c59-b17e-9eb365f29f74"
      },
      "execution_count": 7,
      "outputs": [
        {
          "output_type": "stream",
          "name": "stdout",
          "text": [
            "Addition: 15\n",
            "Subtraction: 5\n"
          ]
        }
      ]
    },
    {
      "cell_type": "markdown",
      "source": [
        " 8. Implement a class Person with a class method to count the total number of persons created.\n",
        "\n",
        " -"
      ],
      "metadata": {
        "id": "m1zvvy3mZNU4"
      }
    },
    {
      "cell_type": "code",
      "source": [
        "class Person:\n",
        "    count = 0  # Class variable to track number of instances\n",
        "\n",
        "    def __init__(self, name):\n",
        "        self.name = name\n",
        "        Person.count += 1\n",
        "\n",
        "    @classmethod\n",
        "    def total_persons(cls):\n",
        "        return cls.count\n",
        "\n",
        "# Example usage\n",
        "p1 = Person(\"Aryan\")\n",
        "p2 = Person(\"Aarush\")\n",
        "p3 = Person(\"Riya\")\n",
        "\n",
        "print(\"Total persons created:\", Person.total_persons())  # Output: 3"
      ],
      "metadata": {
        "colab": {
          "base_uri": "https://localhost:8080/"
        },
        "id": "PD9FZY8fZMe3",
        "outputId": "305eb25e-2b01-41a9-e055-c5ed45a74165"
      },
      "execution_count": 8,
      "outputs": [
        {
          "output_type": "stream",
          "name": "stdout",
          "text": [
            "Total persons created: 3\n"
          ]
        }
      ]
    },
    {
      "cell_type": "markdown",
      "source": [
        " 9. Write a class Fraction with attributes numerator and denominator. Override the str method to display the\n",
        "fraction as \"numerator/denominator\".\n",
        "\n",
        "-"
      ],
      "metadata": {
        "id": "gYdqNr6DZX5c"
      }
    },
    {
      "cell_type": "code",
      "source": [
        "class Fraction:\n",
        "    def __init__(self, numerator, denominator):\n",
        "        self.numerator = numerator\n",
        "        self.denominator = denominator\n",
        "\n",
        "    def __str__(self):\n",
        "        return f\"{self.numerator}/{self.denominator}\"\n",
        "\n",
        "# Example usage\n",
        "f1 = Fraction(3, 4)\n",
        "f2 = Fraction(7, 2)\n",
        "\n",
        "print(f1)  # Output: 3/4\n",
        "print(f2)  # Output: 7/2"
      ],
      "metadata": {
        "colab": {
          "base_uri": "https://localhost:8080/"
        },
        "id": "JHlbUKeFZW-v",
        "outputId": "a819b4bb-d49e-4864-b32b-f102e99810b5"
      },
      "execution_count": 9,
      "outputs": [
        {
          "output_type": "stream",
          "name": "stdout",
          "text": [
            "3/4\n",
            "7/2\n"
          ]
        }
      ]
    },
    {
      "cell_type": "markdown",
      "source": [
        " 10. Demonstrate operator overloading by creating a class Vector and overriding the add method to add two\n",
        "vectors.\n",
        "\n",
        "-"
      ],
      "metadata": {
        "id": "fTbKAyCKZhNQ"
      }
    },
    {
      "cell_type": "code",
      "source": [
        "class Vector:\n",
        "    def __init__(self, x, y):\n",
        "        self.x = x\n",
        "        self.y = y\n",
        "\n",
        "    def __add__(self, other):\n",
        "        if isinstance(other, Vector):\n",
        "            return Vector(self.x + other.x, self.y + other.y)\n",
        "        raise TypeError(\"Operands must be of type Vector\")\n",
        "\n",
        "    def __str__(self):\n",
        "        return f\"({self.x}, {self.y})\"\n",
        "\n",
        "# Example usage\n",
        "v1 = Vector(3, 4)\n",
        "v2 = Vector(1, 2)\n",
        "v3 = v1 + v2\n",
        "\n",
        "print(\"v1:\", v1)  # Output: (3, 4)\n",
        "print(\"v2:\", v2)  # Output: (1, 2)\n",
        "print(\"v1 + v2 =\", v3)  # Output: (4, 6)"
      ],
      "metadata": {
        "colab": {
          "base_uri": "https://localhost:8080/"
        },
        "id": "eeqgLAYAZgQT",
        "outputId": "82f69916-d2d8-48bd-af32-17b74a96ca6f"
      },
      "execution_count": 10,
      "outputs": [
        {
          "output_type": "stream",
          "name": "stdout",
          "text": [
            "v1: (3, 4)\n",
            "v2: (1, 2)\n",
            "v1 + v2 = (4, 6)\n"
          ]
        }
      ]
    },
    {
      "cell_type": "markdown",
      "source": [
        " 11. Create a class Person with attributes name and age. Add a method greet() that prints \"Hello, my name is\n",
        "{name} and I am {age} years old.\"\n",
        "\n",
        "\n",
        "-"
      ],
      "metadata": {
        "id": "9e7XQbUrZqW5"
      }
    },
    {
      "cell_type": "code",
      "source": [
        "class Person:\n",
        "    def __init__(self, name, age):\n",
        "        self.name = name\n",
        "        self.age = age\n",
        "\n",
        "    def greet(self):\n",
        "        print(f\"Hello, my name is {self.name} and I am {self.age} years old.\")\n",
        "\n",
        "# Example usage\n",
        "p1 = Person(\"Aarush\", 21)\n",
        "p1.greet()  # Output: Hello, my name is Aarush and I am 21 years old."
      ],
      "metadata": {
        "colab": {
          "base_uri": "https://localhost:8080/"
        },
        "id": "b72i5o1FZpbS",
        "outputId": "59edb24e-841a-4156-c2b7-ff8b8b8114cc"
      },
      "execution_count": 11,
      "outputs": [
        {
          "output_type": "stream",
          "name": "stdout",
          "text": [
            "Hello, my name is Aarush and I am 21 years old.\n"
          ]
        }
      ]
    },
    {
      "cell_type": "markdown",
      "source": [
        " 12. Implement a class Student with attributes name and grades. Create a method average_grade() to compute\n",
        "the average of the grades.\n",
        "\n",
        "-"
      ],
      "metadata": {
        "id": "c6jwNIB6Zz9T"
      }
    },
    {
      "cell_type": "code",
      "source": [
        "class Student:\n",
        "    def __init__(self, name, grades):\n",
        "        self.name = name\n",
        "        self.grades = grades  # Expecting a list of numeric grades\n",
        "\n",
        "    def average_grade(self):\n",
        "        if not self.grades:\n",
        "            return 0\n",
        "        return sum(self.grades) / len(self.grades)\n",
        "\n",
        "# Example usage\n",
        "s1 = Student(\"Aarush\", [85, 90, 78, 92])\n",
        "s2 = Student(\"Riya\", [88, 76, 95])\n",
        "\n",
        "print(f\"{s1.name}'s average grade: {s1.average_grade():.2f}\")\n",
        "print(f\"{s2.name}'s average grade: {s2.average_grade():.2f}\")"
      ],
      "metadata": {
        "colab": {
          "base_uri": "https://localhost:8080/"
        },
        "id": "Og5p_F8cZyq6",
        "outputId": "b93013bd-4946-4835-c1f8-f9b15cba6a65"
      },
      "execution_count": 12,
      "outputs": [
        {
          "output_type": "stream",
          "name": "stdout",
          "text": [
            "Aarush's average grade: 86.25\n",
            "Riya's average grade: 86.33\n"
          ]
        }
      ]
    },
    {
      "cell_type": "markdown",
      "source": [
        " 13. Create a class Rectangle with methods set_dimensions() to set the dimensions and area() to calculate the\n",
        "area.\n",
        "\n",
        "\n",
        "-"
      ],
      "metadata": {
        "id": "J01sKQNHZ_Kr"
      }
    },
    {
      "cell_type": "code",
      "source": [
        "class Rectangle:\n",
        "    def __init__(self):\n",
        "        self.length = 0\n",
        "        self.width = 0\n",
        "\n",
        "    def set_dimensions(self, length, width):\n",
        "        self.length = length\n",
        "        self.width = width\n",
        "\n",
        "    def area(self):\n",
        "        return self.length * self.width\n",
        "\n",
        "# Example usage\n",
        "rect = Rectangle()\n",
        "rect.set_dimensions(5, 3)\n",
        "print(\"Area of rectangle:\", rect.area())  # Output: 15"
      ],
      "metadata": {
        "colab": {
          "base_uri": "https://localhost:8080/"
        },
        "id": "nPW_0mkRZ94q",
        "outputId": "ffe9d2a3-146f-4943-c13d-eb6f9c06d91e"
      },
      "execution_count": 13,
      "outputs": [
        {
          "output_type": "stream",
          "name": "stdout",
          "text": [
            "Area of rectangle: 15\n"
          ]
        }
      ]
    },
    {
      "cell_type": "markdown",
      "source": [
        "14. Create a class Employee with a method calculate_salary() that computes the salary based on hours worked\n",
        "and hourly rate. Create a derived class Manager that adds a bonus to the salary.\n",
        "\n",
        "\n",
        "-"
      ],
      "metadata": {
        "id": "8HQdjSpmaI05"
      }
    },
    {
      "cell_type": "code",
      "source": [
        "# Base class\n",
        "class Employee:\n",
        "    def __init__(self, name, hours_worked, hourly_rate):\n",
        "        self.name = name\n",
        "        self.hours_worked = hours_worked\n",
        "        self.hourly_rate = hourly_rate\n",
        "\n",
        "    def calculate_salary(self):\n",
        "        return self.hours_worked * self.hourly_rate\n",
        "\n",
        "# Derived class\n",
        "class Manager(Employee):\n",
        "    def __init__(self, name, hours_worked, hourly_rate, bonus):\n",
        "        super().__init__(name, hours_worked, hourly_rate)\n",
        "        self.bonus = bonus\n",
        "\n",
        "    def calculate_salary(self):\n",
        "        base_salary = super().calculate_salary()\n",
        "        return base_salary + self.bonus\n",
        "\n",
        "# Example usage\n",
        "emp = Employee(\"Aarush\", 40, 500)\n",
        "mgr = Manager(\"Aryan\", 45, 700, 5000)\n",
        "\n",
        "print(f\"{emp.name}'s salary: ₹{emp.calculate_salary()}\")\n",
        "print(f\"{mgr.name}'s salary: ₹{mgr.calculate_salary()}\")"
      ],
      "metadata": {
        "colab": {
          "base_uri": "https://localhost:8080/"
        },
        "id": "pEZw1jfTaHuZ",
        "outputId": "d3991511-dbc2-44b5-87be-aa40dcbad5a5"
      },
      "execution_count": 14,
      "outputs": [
        {
          "output_type": "stream",
          "name": "stdout",
          "text": [
            "Aarush's salary: ₹20000\n",
            "Aryan's salary: ₹36500\n"
          ]
        }
      ]
    },
    {
      "cell_type": "markdown",
      "source": [
        "15. Create a class Product with attributes name, price, and quantity. Implement a method total_price() that\n",
        "calculates the total price of the product.\n",
        "\n",
        "-"
      ],
      "metadata": {
        "id": "KgMGvyuFaSad"
      }
    },
    {
      "cell_type": "code",
      "source": [
        "class Product:\n",
        "    def __init__(self, name, price, quantity):\n",
        "        self.name = name\n",
        "        self.price = price\n",
        "        self.quantity = quantity\n",
        "\n",
        "    def total_price(self):\n",
        "        return self.price * self.quantity\n",
        "\n",
        "# Example usage\n",
        "p1 = Product(\"Laptop\", 55000, 2)\n",
        "p2 = Product(\"Mouse\", 500, 5)\n",
        "\n",
        "print(f\"{p1.name} total price: ₹{p1.total_price()}\")\n",
        "print(f\"{p2.name} total price: ₹{p2.total_price()}\")"
      ],
      "metadata": {
        "colab": {
          "base_uri": "https://localhost:8080/"
        },
        "id": "l6d53KcuaRlA",
        "outputId": "2df88fff-4b71-4e7c-9178-9a090c7c631a"
      },
      "execution_count": 15,
      "outputs": [
        {
          "output_type": "stream",
          "name": "stdout",
          "text": [
            "Laptop total price: ₹110000\n",
            "Mouse total price: ₹2500\n"
          ]
        }
      ]
    },
    {
      "cell_type": "markdown",
      "source": [
        " 16. Create a class Animal with an abstract method sound(). Create two derived classes Cow and Sheep that\n",
        "implement the sound() method.\n",
        "\n",
        "-"
      ],
      "metadata": {
        "id": "HBTLKPSLaczj"
      }
    },
    {
      "cell_type": "code",
      "source": [
        "from abc import ABC, abstractmethod\n",
        "\n",
        "# Abstract base class\n",
        "class Animal(ABC):\n",
        "    @abstractmethod\n",
        "    def sound(self):\n",
        "        pass\n",
        "\n",
        "# Derived class: Cow\n",
        "class Cow(Animal):\n",
        "    def sound(self):\n",
        "        print(\"Cow says: Moo 🐄\")\n",
        "\n",
        "# Derived class: Sheep\n",
        "class Sheep(Animal):\n",
        "    def sound(self):\n",
        "        print(\"Sheep says: Baa 🐑\")\n",
        "\n",
        "# Example usage\n",
        "animals = [Cow(), Sheep()]\n",
        "\n",
        "for animal in animals:\n",
        "    animal.sound()"
      ],
      "metadata": {
        "colab": {
          "base_uri": "https://localhost:8080/"
        },
        "id": "359xtA4Mabls",
        "outputId": "fa2b1320-6b0f-4814-88ab-358736b13648"
      },
      "execution_count": 16,
      "outputs": [
        {
          "output_type": "stream",
          "name": "stdout",
          "text": [
            "Cow says: Moo 🐄\n",
            "Sheep says: Baa 🐑\n"
          ]
        }
      ]
    },
    {
      "cell_type": "markdown",
      "source": [
        " 17. Create a class Book with attributes title, author, and year_published. Add a method get_book_info() that\n",
        "returns a formatted string with the book's details.\n",
        "\n",
        "-"
      ],
      "metadata": {
        "id": "GEWsVn5Halff"
      }
    },
    {
      "cell_type": "code",
      "source": [
        "class Book:\n",
        "    def __init__(self, title, author, year_published):\n",
        "        self.title = title\n",
        "        self.author = author\n",
        "        self.year_published = year_published\n",
        "\n",
        "    def get_book_info(self):\n",
        "        return f\"'{self.title}' by {self.author}, published in {self.year_published}\"\n",
        "\n",
        "# Example usage\n",
        "b1 = Book(\"The Alchemist\", \"Paulo Coelho\", 1988)\n",
        "b2 = Book(\"Atomic Habits\", \"James Clear\", 2018)\n",
        "\n",
        "print(b1.get_book_info())  # Output: 'The Alchemist' by Paulo Coelho, published in 1988\n",
        "print(b2.get_book_info())  # Output: 'Atomic Habits' by James Clear, published in 2018"
      ],
      "metadata": {
        "colab": {
          "base_uri": "https://localhost:8080/"
        },
        "id": "bLwqNKsBakZh",
        "outputId": "da6ea25e-902b-4e8d-ca2f-583946c13280"
      },
      "execution_count": 17,
      "outputs": [
        {
          "output_type": "stream",
          "name": "stdout",
          "text": [
            "'The Alchemist' by Paulo Coelho, published in 1988\n",
            "'Atomic Habits' by James Clear, published in 2018\n"
          ]
        }
      ]
    },
    {
      "cell_type": "markdown",
      "source": [
        " 18. Create a class House with attributes address and price. Create a derived class Mansion that adds an\n",
        "attribute number_of_rooms.\n",
        "\n",
        "-"
      ],
      "metadata": {
        "id": "LI2z8cKAavft"
      }
    },
    {
      "cell_type": "code",
      "source": [
        "# Base class\n",
        "class House:\n",
        "    def __init__(self, address, price):\n",
        "        self.address = address\n",
        "        self.price = price\n",
        "\n",
        "    def display_info(self):\n",
        "        print(f\"Address: {self.address}\")\n",
        "        print(f\"Price: ₹{self.price}\")\n",
        "\n",
        "# Derived class\n",
        "class Mansion(House):\n",
        "    def __init__(self, address, price, number_of_rooms):\n",
        "        super().__init__(address, price)\n",
        "        self.number_of_rooms = number_of_rooms\n",
        "\n",
        "    def display_details(self):\n",
        "        self.display_info()\n",
        "        print(f\"Number of rooms: {self.number_of_rooms}\")\n",
        "\n",
        "# Example usage\n",
        "villa = Mansion(\"Palm Grove Estate, Mumbai\", 250000000, 12)\n",
        "villa.display_details()"
      ],
      "metadata": {
        "colab": {
          "base_uri": "https://localhost:8080/"
        },
        "id": "WX0h0sfrauoR",
        "outputId": "1c9b34e9-e702-4346-9085-51783ae74d56"
      },
      "execution_count": 18,
      "outputs": [
        {
          "output_type": "stream",
          "name": "stdout",
          "text": [
            "Address: Palm Grove Estate, Mumbai\n",
            "Price: ₹250000000\n",
            "Number of rooms: 12\n"
          ]
        }
      ]
    },
    {
      "cell_type": "code",
      "source": [],
      "metadata": {
        "id": "lBdwH8XLa4pC"
      },
      "execution_count": null,
      "outputs": []
    }
  ]
}